{
 "cells": [
  {
   "cell_type": "markdown",
   "id": "074d5a1c-9d1d-4f9a-ab28-796f8e37d18a",
   "metadata": {},
   "source": [
    "Q1. Which keyword is used to create a function? Create a function to return a list of odd numbers in the range of 1 to 25.\n",
    "\n",
    "Ans: def keyword is used to create a function."
   ]
  },
  {
   "cell_type": "code",
   "execution_count": 37,
   "id": "fdec6a16-ad8d-4091-b44b-8232f657e7b6",
   "metadata": {},
   "outputs": [],
   "source": [
    "l=list(range(1,25))\n",
    "def test(l):\n",
    "    l1=[]\n",
    "    for i in l:\n",
    "        if i%2==1:\n",
    "            l1.append(i)\n",
    "    return l1"
   ]
  },
  {
   "cell_type": "code",
   "execution_count": 38,
   "id": "f4f3541f-fbd2-4a01-be82-1247ca571b44",
   "metadata": {},
   "outputs": [
    {
     "data": {
      "text/plain": [
       "[1, 3, 5, 7, 9, 11, 13, 15, 17, 19, 21, 23]"
      ]
     },
     "execution_count": 38,
     "metadata": {},
     "output_type": "execute_result"
    }
   ],
   "source": [
    "test(l)"
   ]
  },
  {
   "cell_type": "markdown",
   "id": "f695221b-2f6d-4704-be6b-a51c2926d8c9",
   "metadata": {},
   "source": [
    "Q2. Why *args and **kwargs is used in some functions? Create a function each for *args and **kwargs\n",
    "to demonstrate their use.\n",
    "\n",
    "Ans: We use *args and **kwargs as an argument when we are unsure about the number of arguments to pass in the functions."
   ]
  },
  {
   "cell_type": "code",
   "execution_count": 39,
   "id": "53197860-b486-4e42-86bc-2d06925d4917",
   "metadata": {},
   "outputs": [],
   "source": [
    "def test1(*args):\n",
    "    sum=0\n",
    "    for i in args:\n",
    "        sum = sum + i\n",
    "    return sum    "
   ]
  },
  {
   "cell_type": "code",
   "execution_count": 40,
   "id": "567cb668-f6f6-4a8f-9e21-9c80d0a1d215",
   "metadata": {},
   "outputs": [
    {
     "data": {
      "text/plain": [
       "22"
      ]
     },
     "execution_count": 40,
     "metadata": {},
     "output_type": "execute_result"
    }
   ],
   "source": [
    "test1(4,5,6,7)"
   ]
  },
  {
   "cell_type": "code",
   "execution_count": 41,
   "id": "4f3be274-9356-4ffd-978c-ee0f7a182b1e",
   "metadata": {},
   "outputs": [],
   "source": [
    "def test2(**kwargs):\n",
    "    for i,j in kwargs.items():\n",
    "        print(i,j)"
   ]
  },
  {
   "cell_type": "code",
   "execution_count": 42,
   "id": "a8db16e6-dbbd-482c-8a20-befededf33b5",
   "metadata": {},
   "outputs": [
    {
     "name": "stdout",
     "output_type": "stream",
     "text": [
      "red 2\n",
      "black 1\n"
     ]
    }
   ],
   "source": [
    "test2(red=2,black=1)"
   ]
  },
  {
   "cell_type": "markdown",
   "id": "4011eb6e-20cf-43ba-a7e3-509768bf2de2",
   "metadata": {},
   "source": [
    "Q3. What is an iterator in python? Name the method used to initialise the iterator object and the method\n",
    "used for iteration. Use these methods to print the first five elements of the given list [2, 4, 6, 8, 10, 12, 14,\n",
    "16, 18, 20]."
   ]
  },
  {
   "cell_type": "markdown",
   "id": "f884fadb-34c5-47da-ab9c-915047c66575",
   "metadata": {},
   "source": [
    "Ans:- Iterator is an object that is used to iterarte over iterable objects like lists, tuples, dicts and sets. The iterator object is initialized using the iter() method.\n",
    "It uses the next() method for iteration.\n",
    "i) _iter_(): The iter() method is called for the initialization of an iterator. This returns an iterator object.\n",
    "ii) _next_(): The next method return the next value for the iterable. When we use a for loop to traverse any iterable object, internally it uses the iter() method to get an iterator object, which further uses the next() method to iterate over. This method raises a StopIteration to signal the end of the iteration."
   ]
  },
  {
   "cell_type": "code",
   "execution_count": 43,
   "id": "8f415da3-3810-4110-b126-3fc044634a8e",
   "metadata": {},
   "outputs": [],
   "source": [
    "g=[2, 4, 6, 8, 10, 12, 14, 16, 18, 20]"
   ]
  },
  {
   "cell_type": "code",
   "execution_count": 44,
   "id": "2e8274a7-1667-4f99-8182-c6761d186b5f",
   "metadata": {},
   "outputs": [],
   "source": [
    "g1=iter(g)"
   ]
  },
  {
   "cell_type": "code",
   "execution_count": 45,
   "id": "a4ed59c2-5989-45e7-967e-7cb3d451052e",
   "metadata": {},
   "outputs": [
    {
     "name": "stdout",
     "output_type": "stream",
     "text": [
      "2\n",
      "4\n",
      "6\n",
      "8\n",
      "10\n"
     ]
    }
   ],
   "source": [
    "for i in range(5):\n",
    "    print(next(g1))"
   ]
  },
  {
   "cell_type": "markdown",
   "id": "581b92a3-c692-4a2e-b03a-19cc5c489768",
   "metadata": {},
   "source": [
    "Q4. What is a generator function in python? Why yield keyword is used? Give an example of a generator\n",
    "function."
   ]
  },
  {
   "cell_type": "markdown",
   "id": "cba225d5-bdfb-4105-9bfc-3db71920aa33",
   "metadata": {},
   "source": [
    "Ans:-Generator:\n",
    "i) A generator is a function that returns an iterator that produces a sequence of values when iterated over.\n",
    "ii) Generators simplifies creation of iterators.\n",
    "iii)Generators are useful when we want to produce a large sequence of values, but we don't want to store all of them in memory at once.\n",
    "\n",
    "Yield keyword\n",
    "i)It is used to create a generator function. \n",
    "ii) A type of function that is memory efficient and can be used like an iterator object. \n",
    "iii)Using yield keyword is highly memory efficient, since the execution happens only when the caller iterates over the object.\n"
   ]
  },
  {
   "cell_type": "code",
   "execution_count": 46,
   "id": "8fe453ec-5cf6-4894-8c07-057856525ab5",
   "metadata": {},
   "outputs": [],
   "source": [
    "def gen():\n",
    "    counter=0\n",
    "    while True:\n",
    "        yield counter\n",
    "        counter=counter+1\n",
    "    \n",
    "    "
   ]
  },
  {
   "cell_type": "code",
   "execution_count": 47,
   "id": "123b290f-cb8c-40d7-85ad-5a5cdee8d098",
   "metadata": {},
   "outputs": [],
   "source": [
    "genobj=gen()"
   ]
  },
  {
   "cell_type": "code",
   "execution_count": 48,
   "id": "fa48c6f9-9c33-4d29-9e29-3764ddaf912c",
   "metadata": {},
   "outputs": [
    {
     "name": "stdout",
     "output_type": "stream",
     "text": [
      "0\n",
      "1\n",
      "2\n",
      "3\n",
      "4\n",
      "5\n",
      "6\n",
      "7\n",
      "8\n",
      "9\n"
     ]
    }
   ],
   "source": [
    "for i in range(10):\n",
    "    print(next(genobj))\n",
    "    "
   ]
  },
  {
   "cell_type": "markdown",
   "id": "fa70b6e2-4ddf-419c-ba84-9134393ab647",
   "metadata": {},
   "source": [
    "Q5. Create a generator function for prime numbers less than 1000. Use the next() method to print the\n",
    "first 20 prime numbers."
   ]
  },
  {
   "cell_type": "code",
   "execution_count": 49,
   "id": "4d7018c1-4d03-4953-b7ec-55bcd96a1a28",
   "metadata": {},
   "outputs": [],
   "source": [
    "def isprime(num):\n",
    "    for i in range(2,num):\n",
    "        if num%i==0:\n",
    "            return False\n",
    "    return True\n",
    "\n",
    "def primeno(n):\n",
    "    num=2\n",
    "    while n:\n",
    "        if isprime(num):\n",
    "            yield num\n",
    "            n=n-1\n",
    "        num=num+1\n",
    "    return\n"
   ]
  },
  {
   "cell_type": "code",
   "execution_count": 50,
   "id": "b8444df8-6104-4153-af0c-62a49bec8d7f",
   "metadata": {},
   "outputs": [],
   "source": [
    "primegenerator=iter(primeno(1000))"
   ]
  },
  {
   "cell_type": "code",
   "execution_count": 51,
   "id": "9708d6bf-ec71-4669-8581-132b542fc89c",
   "metadata": {},
   "outputs": [
    {
     "name": "stdout",
     "output_type": "stream",
     "text": [
      "2\n",
      "3\n",
      "5\n",
      "7\n",
      "11\n",
      "13\n",
      "17\n",
      "19\n",
      "23\n",
      "29\n",
      "31\n",
      "37\n",
      "41\n",
      "43\n",
      "47\n",
      "53\n",
      "59\n",
      "61\n",
      "67\n",
      "71\n"
     ]
    }
   ],
   "source": [
    "for i in range(20):\n",
    "    print(next(primegenerator))"
   ]
  },
  {
   "cell_type": "markdown",
   "id": "07db702e-3130-4db1-b88a-41e20e081e34",
   "metadata": {},
   "source": [
    "Q6. Write a python program to print the first 10 Fibonacci numbers using a while loop."
   ]
  },
  {
   "cell_type": "code",
   "execution_count": 52,
   "id": "a1769cfa-e97e-4fac-87a1-bc7e3b67e0bd",
   "metadata": {},
   "outputs": [
    {
     "name": "stdout",
     "output_type": "stream",
     "text": [
      "0\n",
      "1\n",
      "1\n",
      "2\n",
      "3\n",
      "5\n",
      "8\n",
      "13\n",
      "21\n",
      "34\n"
     ]
    }
   ],
   "source": [
    "n=10\n",
    "a,b=0,1\n",
    "counter=0\n",
    "while counter<n:\n",
    "    print(a)\n",
    "    c=a+b\n",
    "    a=b\n",
    "    b=c\n",
    "    counter=counter+1\n",
    "    \n",
    "    "
   ]
  },
  {
   "cell_type": "markdown",
   "id": "3e26751d-1440-45f7-8150-1b8c4f8c40f0",
   "metadata": {},
   "source": [
    "Q7. Write a List Comprehension to iterate through the given string: ‘pwskills’.\n",
    "\n",
    "Expected output: ['p', 'w', 's', 'k', 'i', 'l', 'l', 's']"
   ]
  },
  {
   "cell_type": "code",
   "execution_count": 53,
   "id": "55c08f4c-43b5-435f-ad8d-857bca1735a9",
   "metadata": {},
   "outputs": [
    {
     "data": {
      "text/plain": [
       "['p', 'w', 's', 'k', 'i', 'l', 'l', 's']"
      ]
     },
     "execution_count": 53,
     "metadata": {},
     "output_type": "execute_result"
    }
   ],
   "source": [
    "[i for i in \"pwskills\"]"
   ]
  },
  {
   "cell_type": "markdown",
   "id": "c30aa3e5-fa1e-4322-b4a7-a3d4b935d399",
   "metadata": {},
   "source": [
    "Q8. Write a python program to check whether a given number is Palindrome or not using a while loop."
   ]
  },
  {
   "cell_type": "code",
   "execution_count": 55,
   "id": "4afafddb-1bbf-491b-a627-5a31f73f27ca",
   "metadata": {},
   "outputs": [
    {
     "name": "stdin",
     "output_type": "stream",
     "text": [
      "Enter number 5665\n"
     ]
    },
    {
     "name": "stdout",
     "output_type": "stream",
     "text": [
      "it is a palindrome\n"
     ]
    }
   ],
   "source": [
    "num=input(\"Enter number\")\n",
    "check=num[::-1]\n",
    "while num==check:\n",
    "    print(\"it is a palindrome\")\n",
    "    break\n",
    "else:\n",
    "    print(\"not a palindrome\")\n",
    "    "
   ]
  },
  {
   "cell_type": "markdown",
   "id": "998cca61-e1b8-448a-8659-56a149afc166",
   "metadata": {},
   "source": [
    "Q9. Write a code to print odd numbers from 1 to 100 using list comprehension.\n"
   ]
  },
  {
   "cell_type": "code",
   "execution_count": 56,
   "id": "c93a731b-8277-47ff-a2fa-4508ecd1e293",
   "metadata": {},
   "outputs": [
    {
     "data": {
      "text/plain": [
       "[1,\n",
       " 3,\n",
       " 5,\n",
       " 7,\n",
       " 9,\n",
       " 11,\n",
       " 13,\n",
       " 15,\n",
       " 17,\n",
       " 19,\n",
       " 21,\n",
       " 23,\n",
       " 25,\n",
       " 27,\n",
       " 29,\n",
       " 31,\n",
       " 33,\n",
       " 35,\n",
       " 37,\n",
       " 39,\n",
       " 41,\n",
       " 43,\n",
       " 45,\n",
       " 47,\n",
       " 49,\n",
       " 51,\n",
       " 53,\n",
       " 55,\n",
       " 57,\n",
       " 59,\n",
       " 61,\n",
       " 63,\n",
       " 65,\n",
       " 67,\n",
       " 69,\n",
       " 71,\n",
       " 73,\n",
       " 75,\n",
       " 77,\n",
       " 79,\n",
       " 81,\n",
       " 83,\n",
       " 85,\n",
       " 87,\n",
       " 89,\n",
       " 91,\n",
       " 93,\n",
       " 95,\n",
       " 97,\n",
       " 99]"
      ]
     },
     "execution_count": 56,
     "metadata": {},
     "output_type": "execute_result"
    }
   ],
   "source": [
    "[i for i in range(1,100) if i%2==1]"
   ]
  },
  {
   "cell_type": "code",
   "execution_count": null,
   "id": "426371df-516f-4f39-b137-e54ebec330d3",
   "metadata": {},
   "outputs": [],
   "source": []
  }
 ],
 "metadata": {
  "kernelspec": {
   "display_name": "Python 3 (ipykernel)",
   "language": "python",
   "name": "python3"
  },
  "language_info": {
   "codemirror_mode": {
    "name": "ipython",
    "version": 3
   },
   "file_extension": ".py",
   "mimetype": "text/x-python",
   "name": "python",
   "nbconvert_exporter": "python",
   "pygments_lexer": "ipython3",
   "version": "3.10.8"
  }
 },
 "nbformat": 4,
 "nbformat_minor": 5
}
