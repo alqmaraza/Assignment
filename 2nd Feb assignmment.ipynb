{
 "cells": [
  {
   "cell_type": "markdown",
   "id": "72741176-4541-4b56-a531-f649b59070a0",
   "metadata": {},
   "source": [
    "Q1. Explain with an example each when to use a for loop and a while loop."
   ]
  },
  {
   "cell_type": "markdown",
   "id": "53aeecf3-b992-48cf-a66c-f4d18bd01732",
   "metadata": {},
   "source": [
    "ANS:for loop is used when you know how many times the loop should run.\n",
    "The while loop is a kind of a loop that keeps running while a condition is True."
   ]
  },
  {
   "cell_type": "code",
   "execution_count": 5,
   "id": "2ba1016e-4376-43f6-8203-859cbf050485",
   "metadata": {},
   "outputs": [
    {
     "name": "stdout",
     "output_type": "stream",
     "text": [
      "1\n",
      "2\n",
      "3\n",
      "4\n",
      "5\n"
     ]
    }
   ],
   "source": [
    "# for loop example \n",
    "myList = [1, 2, 3, 4, 5] \n",
    " \n",
    "for item in myList: \n",
    "    print(item) "
   ]
  },
  {
   "cell_type": "code",
   "execution_count": 13,
   "id": "81fbb284-37c5-4a46-b9f4-342a933948ea",
   "metadata": {},
   "outputs": [
    {
     "name": "stdout",
     "output_type": "stream",
     "text": [
      "You are still young\n",
      "You are still young\n",
      "You are still young\n",
      "You are still young\n",
      "You are still young\n",
      "You are still young\n",
      "You are still young\n",
      "You are still young\n",
      "You are still young\n",
      "You are still young\n",
      "You are still young\n",
      "You are still young\n",
      "You are still young\n",
      "You are still young\n",
      "You are still young\n",
      "You are still young\n",
      "You are still young\n",
      "You are old enough now!\n"
     ]
    }
   ],
   "source": [
    "# while loop example \n",
    " \n",
    "age = 1 \n",
    "while age < 18: \n",
    "    print(\"You are still young\") \n",
    "    age += 1 \n",
    "print(\"You are old enough now!\")"
   ]
  },
  {
   "cell_type": "markdown",
   "id": "a7fec86b-69c6-4422-9f34-6786a2df656f",
   "metadata": {},
   "source": [
    "Q2. Write a python program to print the sum and product of the first 10 natural numbers using for\n",
    "and while loop."
   ]
  },
  {
   "cell_type": "code",
   "execution_count": 4,
   "id": "1b9cd7f7-a9c0-42cf-883e-de2cf297edad",
   "metadata": {},
   "outputs": [
    {
     "data": {
      "text/plain": [
       "55"
      ]
     },
     "execution_count": 4,
     "metadata": {},
     "output_type": "execute_result"
    }
   ],
   "source": [
    "n=range(11)\n",
    "sum=0\n",
    "for i in n:\n",
    "    sum=sum+i\n",
    "sum"
   ]
  },
  {
   "cell_type": "code",
   "execution_count": 3,
   "id": "5ad586fc-70aa-4aa9-b855-39fe2d3ab15b",
   "metadata": {},
   "outputs": [
    {
     "data": {
      "text/plain": [
       "3628800"
      ]
     },
     "execution_count": 3,
     "metadata": {},
     "output_type": "execute_result"
    }
   ],
   "source": [
    "n1=range(1,11)\n",
    "prod=1\n",
    "for i in n1:\n",
    "    prod=prod*i\n",
    "prod"
   ]
  },
  {
   "cell_type": "code",
   "execution_count": 5,
   "id": "4e8b6ae1-a3b2-409f-be0f-51312a9c5067",
   "metadata": {},
   "outputs": [
    {
     "name": "stdin",
     "output_type": "stream",
     "text": [
      "enter number 10\n"
     ]
    },
    {
     "data": {
      "text/plain": [
       "55"
      ]
     },
     "execution_count": 5,
     "metadata": {},
     "output_type": "execute_result"
    }
   ],
   "source": [
    "num2=int(input(\"enter number\"))\n",
    "sum1=0\n",
    "con1=1\n",
    "while con1<=num2:\n",
    "    sum1=sum1+con1\n",
    "    con1=con1+1\n",
    "sum1\n",
    "    "
   ]
  },
  {
   "cell_type": "code",
   "execution_count": 2,
   "id": "34176b59-9fbc-4aeb-a600-9ef3da93dee8",
   "metadata": {},
   "outputs": [
    {
     "name": "stdin",
     "output_type": "stream",
     "text": [
      "enter number 10\n"
     ]
    },
    {
     "data": {
      "text/plain": [
       "3628800"
      ]
     },
     "execution_count": 2,
     "metadata": {},
     "output_type": "execute_result"
    }
   ],
   "source": [
    "num3=int(input(\"enter number\"))\n",
    "prod1=1\n",
    "con2=1\n",
    "while con2<=num3:\n",
    "    prod1=prod1*con2\n",
    "    con2=con2+1\n",
    "prod1"
   ]
  },
  {
   "cell_type": "markdown",
   "id": "81333bfd-80c5-4f5b-b865-1afa8f24d583",
   "metadata": {},
   "source": [
    "Q3. Create a python program to compute the electricity bill for a household.\n",
    "Q4. Create a list of numbers from 1 to 100. Use for loop and while loop to calculate the cube of each\n",
    "number and if the cube of that number is divisible by 4 or 5 then append that number in a list and print\n",
    "that list.\n",
    "The per-unit charges in rupees are as follows: For the first 100 units, the user will be charged Rs. 4.5 per\n",
    "unit, for the next 100 units, the user will be charged Rs. 6 per unit, and for the next 100 units, the user will\n",
    "be charged Rs. 10 per unit, After 300 units and above the user will be charged Rs. 20 per unit.\n",
    "\n",
    "\n",
    "You are required to take the units of electricity consumed in a month from the user as input.\n",
    "\n"
   ]
  },
  {
   "cell_type": "code",
   "execution_count": 1,
   "id": "e81218d7-a1a4-4f6c-a6bf-2ba9c91dfbcc",
   "metadata": {},
   "outputs": [
    {
     "name": "stdin",
     "output_type": "stream",
     "text": [
      "Enter Unit 310\n"
     ]
    },
    {
     "name": "stdout",
     "output_type": "stream",
     "text": [
      "Electricity bill Rs.2250.0\n"
     ]
    }
   ],
   "source": [
    "unit=int(input(\"Enter Unit\"))\n",
    "if unit<=100:\n",
    "    unit=unit*4.5\n",
    "elif unit>100 and unit<=200:\n",
    "    unit=unit-100*6+100*4.5\n",
    "elif unit>200 and unit<=300:\n",
    "    unit=unit-200*10+100*6+100*4.5\n",
    "else:\n",
    "    unit=((unit-300)*20)+100*10+100*6+100*4.5\n",
    "print(f\"Electricity bill Rs.{unit}\")"
   ]
  },
  {
   "cell_type": "markdown",
   "id": "4186ca07-aabb-4fe1-9df4-11fe924df3d4",
   "metadata": {},
   "source": [
    "Q4. Create a list of numbers from 1 to 100. Use for loop and while loop to calculate the cube of each\n",
    "number and if the cube of that number is divisible by 4 or 5 then append that number in a list and print\n",
    "that list."
   ]
  },
  {
   "cell_type": "code",
   "execution_count": 3,
   "id": "912d3e4e-c0f6-4e10-ba1b-33b58b6d07ca",
   "metadata": {},
   "outputs": [
    {
     "data": {
      "text/plain": [
       "[1,\n",
       " 2,\n",
       " 8,\n",
       " 3,\n",
       " 4,\n",
       " 64,\n",
       " 5,\n",
       " 125,\n",
       " 6,\n",
       " 216,\n",
       " 7,\n",
       " 8,\n",
       " 512,\n",
       " 9,\n",
       " 10,\n",
       " 1000,\n",
       " 11,\n",
       " 12,\n",
       " 1728,\n",
       " 13,\n",
       " 14,\n",
       " 2744,\n",
       " 15,\n",
       " 3375,\n",
       " 16,\n",
       " 4096,\n",
       " 17,\n",
       " 18,\n",
       " 5832,\n",
       " 19,\n",
       " 20,\n",
       " 8000,\n",
       " 21,\n",
       " 22,\n",
       " 10648,\n",
       " 23,\n",
       " 24,\n",
       " 13824,\n",
       " 25,\n",
       " 15625,\n",
       " 26,\n",
       " 17576,\n",
       " 27,\n",
       " 28,\n",
       " 21952,\n",
       " 29,\n",
       " 30,\n",
       " 27000,\n",
       " 31,\n",
       " 32,\n",
       " 32768,\n",
       " 33,\n",
       " 34,\n",
       " 39304,\n",
       " 35,\n",
       " 42875,\n",
       " 36,\n",
       " 46656,\n",
       " 37,\n",
       " 38,\n",
       " 54872,\n",
       " 39,\n",
       " 40,\n",
       " 64000,\n",
       " 41,\n",
       " 42,\n",
       " 74088,\n",
       " 43,\n",
       " 44,\n",
       " 85184,\n",
       " 45,\n",
       " 91125,\n",
       " 46,\n",
       " 97336,\n",
       " 47,\n",
       " 48,\n",
       " 110592,\n",
       " 49,\n",
       " 50,\n",
       " 125000,\n",
       " 51,\n",
       " 52,\n",
       " 140608,\n",
       " 53,\n",
       " 54,\n",
       " 157464,\n",
       " 55,\n",
       " 166375,\n",
       " 56,\n",
       " 175616,\n",
       " 57,\n",
       " 58,\n",
       " 195112,\n",
       " 59,\n",
       " 60,\n",
       " 216000,\n",
       " 61,\n",
       " 62,\n",
       " 238328,\n",
       " 63,\n",
       " 64,\n",
       " 262144,\n",
       " 65,\n",
       " 274625,\n",
       " 66,\n",
       " 287496,\n",
       " 67,\n",
       " 68,\n",
       " 314432,\n",
       " 69,\n",
       " 70,\n",
       " 343000,\n",
       " 71,\n",
       " 72,\n",
       " 373248,\n",
       " 73,\n",
       " 74,\n",
       " 405224,\n",
       " 75,\n",
       " 421875,\n",
       " 76,\n",
       " 438976,\n",
       " 77,\n",
       " 78,\n",
       " 474552,\n",
       " 79,\n",
       " 80,\n",
       " 512000,\n",
       " 81,\n",
       " 82,\n",
       " 551368,\n",
       " 83,\n",
       " 84,\n",
       " 592704,\n",
       " 85,\n",
       " 614125,\n",
       " 86,\n",
       " 636056,\n",
       " 87,\n",
       " 88,\n",
       " 681472,\n",
       " 89,\n",
       " 90,\n",
       " 729000,\n",
       " 91,\n",
       " 92,\n",
       " 778688,\n",
       " 93,\n",
       " 94,\n",
       " 830584,\n",
       " 95,\n",
       " 857375,\n",
       " 96,\n",
       " 884736,\n",
       " 97,\n",
       " 98,\n",
       " 941192,\n",
       " 99,\n",
       " 100,\n",
       " 1000000]"
      ]
     },
     "execution_count": 3,
     "metadata": {},
     "output_type": "execute_result"
    }
   ],
   "source": [
    "n3=range(1,101)\n",
    "l3=[]\n",
    "for i in n3:\n",
    "    l3.append(i)\n",
    "    i=i*i*i\n",
    "    if i%4==0 or i%5==0:\n",
    "        l3.append(i)\n",
    "l3"
   ]
  },
  {
   "cell_type": "code",
   "execution_count": 4,
   "id": "285a80de-5b7f-4ff7-80f4-c47f3048ab51",
   "metadata": {},
   "outputs": [
    {
     "name": "stdin",
     "output_type": "stream",
     "text": [
      "enter number: 100\n"
     ]
    },
    {
     "data": {
      "text/plain": [
       "[1,\n",
       " 2,\n",
       " 8,\n",
       " 3,\n",
       " 4,\n",
       " 64,\n",
       " 5,\n",
       " 125,\n",
       " 6,\n",
       " 216,\n",
       " 7,\n",
       " 8,\n",
       " 512,\n",
       " 9,\n",
       " 10,\n",
       " 1000,\n",
       " 11,\n",
       " 12,\n",
       " 1728,\n",
       " 13,\n",
       " 14,\n",
       " 2744,\n",
       " 15,\n",
       " 3375,\n",
       " 16,\n",
       " 4096,\n",
       " 17,\n",
       " 18,\n",
       " 5832,\n",
       " 19,\n",
       " 20,\n",
       " 8000,\n",
       " 21,\n",
       " 22,\n",
       " 10648,\n",
       " 23,\n",
       " 24,\n",
       " 13824,\n",
       " 25,\n",
       " 15625,\n",
       " 26,\n",
       " 17576,\n",
       " 27,\n",
       " 28,\n",
       " 21952,\n",
       " 29,\n",
       " 30,\n",
       " 27000,\n",
       " 31,\n",
       " 32,\n",
       " 32768,\n",
       " 33,\n",
       " 34,\n",
       " 39304,\n",
       " 35,\n",
       " 42875,\n",
       " 36,\n",
       " 46656,\n",
       " 37,\n",
       " 38,\n",
       " 54872,\n",
       " 39,\n",
       " 40,\n",
       " 64000,\n",
       " 41,\n",
       " 42,\n",
       " 74088,\n",
       " 43,\n",
       " 44,\n",
       " 85184,\n",
       " 45,\n",
       " 91125,\n",
       " 46,\n",
       " 97336,\n",
       " 47,\n",
       " 48,\n",
       " 110592,\n",
       " 49,\n",
       " 50,\n",
       " 125000,\n",
       " 51,\n",
       " 52,\n",
       " 140608,\n",
       " 53,\n",
       " 54,\n",
       " 157464,\n",
       " 55,\n",
       " 166375,\n",
       " 56,\n",
       " 175616,\n",
       " 57,\n",
       " 58,\n",
       " 195112,\n",
       " 59,\n",
       " 60,\n",
       " 216000,\n",
       " 61,\n",
       " 62,\n",
       " 238328,\n",
       " 63,\n",
       " 64,\n",
       " 262144,\n",
       " 65,\n",
       " 274625,\n",
       " 66,\n",
       " 287496,\n",
       " 67,\n",
       " 68,\n",
       " 314432,\n",
       " 69,\n",
       " 70,\n",
       " 343000,\n",
       " 71,\n",
       " 72,\n",
       " 373248,\n",
       " 73,\n",
       " 74,\n",
       " 405224,\n",
       " 75,\n",
       " 421875,\n",
       " 76,\n",
       " 438976,\n",
       " 77,\n",
       " 78,\n",
       " 474552,\n",
       " 79,\n",
       " 80,\n",
       " 512000,\n",
       " 81,\n",
       " 82,\n",
       " 551368,\n",
       " 83,\n",
       " 84,\n",
       " 592704,\n",
       " 85,\n",
       " 614125,\n",
       " 86,\n",
       " 636056,\n",
       " 87,\n",
       " 88,\n",
       " 681472,\n",
       " 89,\n",
       " 90,\n",
       " 729000,\n",
       " 91,\n",
       " 92,\n",
       " 778688,\n",
       " 93,\n",
       " 94,\n",
       " 830584,\n",
       " 95,\n",
       " 857375,\n",
       " 96,\n",
       " 884736,\n",
       " 97,\n",
       " 98,\n",
       " 941192,\n",
       " 99,\n",
       " 100,\n",
       " 1000000]"
      ]
     },
     "execution_count": 4,
     "metadata": {},
     "output_type": "execute_result"
    }
   ],
   "source": [
    "num=int(input(\"enter number:\"))\n",
    "l4=[]\n",
    "c1=1\n",
    "while c1<num+1:\n",
    "    l4.append(c1)\n",
    "    d=c1*c1*c1\n",
    "    if d%4==0 or d%5==0:\n",
    "        l4.append(d)\n",
    "    c1=c1+1\n",
    "l4"
   ]
  },
  {
   "cell_type": "markdown",
   "id": "6c160adf-06f1-4f14-9ed4-4ad9d6479202",
   "metadata": {},
   "source": [
    "Q5. Write a program to filter count vowels in the below-given string.\n",
    "\n",
    "string = \"I want to become a data scientist\""
   ]
  },
  {
   "cell_type": "code",
   "execution_count": 26,
   "id": "07a492ed-c8e3-4b6b-a723-d536b93f24cc",
   "metadata": {},
   "outputs": [
    {
     "data": {
      "text/plain": [
       "1"
      ]
     },
     "execution_count": 26,
     "metadata": {},
     "output_type": "execute_result"
    }
   ],
   "source": [
    "string = \"I want to become a data scientist\"\n",
    "count=0\n",
    "for i in string:\n",
    "    if i==\"a\" or i==\"e\"or i==\"i\"or i==\"o\"or i==\"u\" or i==\"A\" or i==\"E\" or i==\"I\" or i==\"O\" or i==\"U\":\n",
    "        count=count+1\n",
    "    else:\n",
    "        con\n",
    "count"
   ]
  },
  {
   "cell_type": "code",
   "execution_count": null,
   "id": "f1543f55-ee74-4312-87c7-b0c216cd9470",
   "metadata": {},
   "outputs": [],
   "source": []
  }
 ],
 "metadata": {
  "kernelspec": {
   "display_name": "Python 3 (ipykernel)",
   "language": "python",
   "name": "python3"
  },
  "language_info": {
   "codemirror_mode": {
    "name": "ipython",
    "version": 3
   },
   "file_extension": ".py",
   "mimetype": "text/x-python",
   "name": "python",
   "nbconvert_exporter": "python",
   "pygments_lexer": "ipython3",
   "version": "3.10.8"
  }
 },
 "nbformat": 4,
 "nbformat_minor": 5
}
