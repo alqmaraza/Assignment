{
 "cells": [
  {
   "cell_type": "markdown",
   "id": "cf75bbef-6d26-4ec0-b00e-7f6641531007",
   "metadata": {},
   "source": [
    "Q1. Create a function which will take a list as an argument and return the product of all the numbers\n",
    "after creating a flat list.\n",
    "\n",
    "Use the below-given list as an argument for your function.\n",
    "\n",
    "\n",
    "list1 = [1,2,3,4, [44,55,66, True], False, (34,56,78,89,34), {1,2,3,3,2,1}, {1:34, \"key2\": [55, 67, 78, 89], 4: (45,\n",
    "22, 61, 34)}, [56, 'data science'], 'Machine Learning']\n",
    "\n",
    "\n",
    "Note: you must extract numeric keys and values of the dictionary also."
   ]
  },
  {
   "cell_type": "code",
   "execution_count": 1,
   "id": "27ed9d4f-cfda-44c6-a48f-73d805a8f094",
   "metadata": {},
   "outputs": [],
   "source": [
    "list1 = [1,2,3,4, [44,55,66, True], False, (34,56,78,89,34), {1,2,3,3,2,1}, {1:34, \"key2\": [55, 67, 78, 89], 4: (45,\n",
    "22, 61, 34)}, [56, 'data science'], 'Machine Learning']"
   ]
  },
  {
   "cell_type": "code",
   "execution_count": 2,
   "id": "ea610169-ee7e-4388-996d-c4582d18898d",
   "metadata": {},
   "outputs": [],
   "source": [
    "from functools import reduce"
   ]
  },
  {
   "cell_type": "code",
   "execution_count": 3,
   "id": "584dac77-70ba-489f-a51a-80554a7d862f",
   "metadata": {},
   "outputs": [
    {
     "data": {
      "text/plain": [
       "[1,\n",
       " 2,\n",
       " 3,\n",
       " 4,\n",
       " [44, 55, 66, True],\n",
       " False,\n",
       " (34, 56, 78, 89, 34),\n",
       " {1, 2, 3},\n",
       " {1: 34, 'key2': [55, 67, 78, 89], 4: (45, 22, 61, 34)},\n",
       " [56, 'data science'],\n",
       " 'Machine Learning']"
      ]
     },
     "execution_count": 3,
     "metadata": {},
     "output_type": "execute_result"
    }
   ],
   "source": [
    "list1"
   ]
  },
  {
   "cell_type": "code",
   "execution_count": 4,
   "id": "fc2610ae-6df3-4728-a1b2-202d6467ecf1",
   "metadata": {},
   "outputs": [],
   "source": [
    "def test(list1):\n",
    "    l1=[]\n",
    "    for i in list1:\n",
    "        if type(i)==list:\n",
    "            for j in i:\n",
    "                if type(j)==int or type(j)==float:\n",
    "                    l1.append(j)\n",
    "        elif type(i)==dict:\n",
    "            for j in i.keys():\n",
    "                if type(j)==int or type(j)==float:\n",
    "                    l1.append(j)\n",
    "                elif type(j)==list:\n",
    "                    for k in j:\n",
    "                        if type(k)==int or type(k)==float:\n",
    "                            l1.append(k)\n",
    "                elif type(j)==tuple:\n",
    "                    for k in j:\n",
    "                        if type(k)==int or type(k)==float:\n",
    "                            l1.append(k)\n",
    "            for j in i.values():\n",
    "                if type(j)==int or type(j)==float:\n",
    "                    l1.append(j)\n",
    "                elif type(j)==list:\n",
    "                    for k in j:\n",
    "                        if type(k)==int or type(k)==float:\n",
    "                            l1.append(k)\n",
    "                elif type(j)==tuple:\n",
    "                    for k in j:\n",
    "                        if type(k)==int or type(k)==float:\n",
    "                            l1.append(k)\n",
    "        elif type(i)==tuple:\n",
    "            for j in i:\n",
    "                if type(j)==int or type(j)==float:\n",
    "                    l1.append(j)\n",
    "        elif type(i)==set:\n",
    "            for j in i:\n",
    "                if type(j)==int or type(j)==float:\n",
    "                    l1.append(j)\n",
    "        else:\n",
    "            if type(i)==int or type(i)==float:\n",
    "                    l1.append(i)\n",
    "    \n",
    "    product=reduce(lambda x,y:x*y,l1)\n",
    "    return product\n",
    "    \n",
    "    "
   ]
  },
  {
   "cell_type": "code",
   "execution_count": 5,
   "id": "3c8147a8-9757-4055-a008-540aa8991682",
   "metadata": {},
   "outputs": [
    {
     "data": {
      "text/plain": [
       "4134711838987085478833841242112000"
      ]
     },
     "execution_count": 5,
     "metadata": {},
     "output_type": "execute_result"
    }
   ],
   "source": [
    "test(list1)"
   ]
  },
  {
   "cell_type": "markdown",
   "id": "f000ce07-dd20-416c-bf1b-9c2b8abe55f1",
   "metadata": {},
   "source": [
    "Q2. Write a python program for encrypting a message sent to you by your friend. The logic of encryption\n",
    "should be such that, for a the output should be z. For b, the output should be y. For c, the output should\n",
    "be x respectively. Also, the whitespace should be replaced with a dollar sign. Keep the punctuation\n",
    "marks unchanged.\n",
    "\n",
    "\n",
    "Input Sentence: I want to become a Data Scientist.\n",
    "\n",
    "\n",
    "Encrypt the above input sentence using the program you just created.\n",
    "\n",
    "\n",
    "Note: Convert the given input sentence into lowercase before encrypting. The final output should be\n",
    "lowercase."
   ]
  },
  {
   "cell_type": "code",
   "execution_count": 6,
   "id": "59b54af1-a1ba-470c-afc8-daa9cbfad79d",
   "metadata": {},
   "outputs": [],
   "source": [
    "Message=\"I want to Become A Data Scientist\""
   ]
  },
  {
   "cell_type": "code",
   "execution_count": 7,
   "id": "d0aa17d0-62ca-4a65-bd6a-0432ab898857",
   "metadata": {},
   "outputs": [
    {
     "data": {
      "text/plain": [
       "'i want to become a data scientist'"
      ]
     },
     "execution_count": 7,
     "metadata": {},
     "output_type": "execute_result"
    }
   ],
   "source": [
    "msg=Message.lower()\n",
    "msg"
   ]
  },
  {
   "cell_type": "code",
   "execution_count": 8,
   "id": "6a48fe14-ad50-4bb4-96d8-87ecd2193504",
   "metadata": {},
   "outputs": [],
   "source": [
    "encrypt={\"a\":\"Z\" , \"b\":\"Y\" , \"c\":\"X\" , \"d\":\"W\" , \"e\":\"V\" , \"f\":\"U\" , \"g\":\"T\" , \"h\":\"S\" , \"i\":\"R\" , \"j\":\"Q\" , \"k\":\"P\" , \"l\":\"O\" , \"m\":\"N\" , \"n\":\"M\" , \"o\":\"L\" , \"p\":\"K\" , \"q\":\"J\" , \"r\":\"I\" , \"s\":\"H\" , \"t\":\"G\" , \"u\":\"F\" , \"v\":\"E\" , \"w\":\"D\" , \"x\":\"C\" , \"y\":\"B\" , \"z\":\"A\" , \" \":\"$\"}"
   ]
  },
  {
   "cell_type": "code",
   "execution_count": 9,
   "id": "9b5d4102-2eba-439c-b47f-1c938995fae0",
   "metadata": {},
   "outputs": [
    {
     "data": {
      "text/plain": [
       "'r$dzmg$gl$yvxlnv$z$wzgz$hxrvmgrhg'"
      ]
     },
     "execution_count": 9,
     "metadata": {},
     "output_type": "execute_result"
    }
   ],
   "source": [
    "for i in encrypt.keys():\n",
    "    msg=msg.replace(i,encrypt[i])\n",
    "msg.lower()"
   ]
  },
  {
   "cell_type": "code",
   "execution_count": null,
   "id": "9ffef251-5b63-4e32-be31-060df9ff16cf",
   "metadata": {},
   "outputs": [],
   "source": []
  }
 ],
 "metadata": {
  "kernelspec": {
   "display_name": "Python 3 (ipykernel)",
   "language": "python",
   "name": "python3"
  },
  "language_info": {
   "codemirror_mode": {
    "name": "ipython",
    "version": 3
   },
   "file_extension": ".py",
   "mimetype": "text/x-python",
   "name": "python",
   "nbconvert_exporter": "python",
   "pygments_lexer": "ipython3",
   "version": "3.10.8"
  }
 },
 "nbformat": 4,
 "nbformat_minor": 5
}
