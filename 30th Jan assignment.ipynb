{
 "cells": [
  {
   "cell_type": "markdown",
   "id": "ac971a34-1192-4762-b29f-feb2868bdcfe",
   "metadata": {},
   "source": [
    "Q1. Write a program to accept percentage from the user and display the grade according to the following criteria:\n",
    "    "
   ]
  },
  {
   "cell_type": "code",
   "execution_count": 1,
   "id": "ce860714-8218-46d4-8d3e-a27fe12ea35b",
   "metadata": {},
   "outputs": [
    {
     "name": "stdin",
     "output_type": "stream",
     "text": [
      "Enter Percentage 55\n"
     ]
    },
    {
     "name": "stdout",
     "output_type": "stream",
     "text": [
      "D Grade\n"
     ]
    }
   ],
   "source": [
    "percentage=int(input(\"Enter Percentage\"))\n",
    "if percentage>90:\n",
    "    print(\"A Grade\")\n",
    "elif percentage>80 and percentage<=90:\n",
    "    print(\"B Grade\")\n",
    "elif percentage>=60 and percentage<=80:\n",
    "    print(\"C Grade\")\n",
    "else:\n",
    "    print(\"D Grade\")"
   ]
  },
  {
   "cell_type": "markdown",
   "id": "f975ffaa-983d-43e4-8cd4-2ac7af132090",
   "metadata": {},
   "source": [
    "Q2. Write a program to accept the cost price of a bike and display the road tax to paid according to the following criteria:"
   ]
  },
  {
   "cell_type": "code",
   "execution_count": 2,
   "id": "8e237249-842e-4724-bc8c-e9a2af86dc9e",
   "metadata": {},
   "outputs": [
    {
     "name": "stdin",
     "output_type": "stream",
     "text": [
      "Enter Bike Cost Price in Rs. 150000\n"
     ]
    },
    {
     "name": "stdout",
     "output_type": "stream",
     "text": [
      "Road Tax Rs.22500.0\n"
     ]
    }
   ],
   "source": [
    "cost_price=int(input(\"Enter Bike Cost Price in Rs.\"))\n",
    "if cost_price>100000:\n",
    "    Tax=cost_price*0.15\n",
    "    print(f'Road Tax Rs.{Tax}')\n",
    "elif cost_price>50000 and cost_price<=100000:\n",
    "    Tax=cost_price*0.10\n",
    "    print(f'Road Tax Rs.{Tax}')\n",
    "else:\n",
    "    Tax=cost_price*0.05\n",
    "    print(f'Road Tax Rs.{Tax}')\n",
    "    \n"
   ]
  },
  {
   "cell_type": "markdown",
   "id": "d8ddb2a2-7568-4745-aa21-97370eaae26c",
   "metadata": {},
   "source": [
    "Q3. Accept any city from the user and display monuments of that city."
   ]
  },
  {
   "cell_type": "code",
   "execution_count": 3,
   "id": "3e6cfc8f-4fbe-43eb-bb2b-aaafea24b611",
   "metadata": {},
   "outputs": [
    {
     "name": "stdin",
     "output_type": "stream",
     "text": [
      "Enter City Jaipur\n"
     ]
    },
    {
     "data": {
      "text/plain": [
       "'Jal Mahal'"
      ]
     },
     "execution_count": 3,
     "metadata": {},
     "output_type": "execute_result"
    }
   ],
   "source": [
    "tour={\"Delhi\":\"Red Fort\",\"Agra\":\"Taj Mahal\",\"Jaipur\":\"Jal Mahal\"}\n",
    "tour[input(\"Enter City\")]"
   ]
  },
  {
   "cell_type": "markdown",
   "id": "f0583fcd-79f6-4edf-aa5d-d84de3f24f7e",
   "metadata": {},
   "source": [
    "Q4. Check how many times a given number can be divided by 3 before it is less than or equal to 10."
   ]
  },
  {
   "cell_type": "code",
   "execution_count": 4,
   "id": "ba17e0fb-5fd1-4f9a-b500-9358cf61199f",
   "metadata": {},
   "outputs": [
    {
     "name": "stdin",
     "output_type": "stream",
     "text": [
      "Enter Number 500\n"
     ]
    },
    {
     "data": {
      "text/plain": [
       "4"
      ]
     },
     "execution_count": 4,
     "metadata": {},
     "output_type": "execute_result"
    }
   ],
   "source": [
    "num=int(input(\"Enter Number\"))\n",
    "counter=0\n",
    "while num>=10:\n",
    "    num=num/3\n",
    "    counter=counter+1\n",
    "counter\n",
    "\n",
    "    "
   ]
  },
  {
   "cell_type": "markdown",
   "id": "753e5b76-3d5e-47f9-a0a1-0af2e696f118",
   "metadata": {},
   "source": [
    "Q5. Why and when to use while loop in Python give a detailed description with example."
   ]
  },
  {
   "cell_type": "markdown",
   "id": "3c629133-7571-4ed5-8235-9907ac6eeb21",
   "metadata": {},
   "source": [
    "Ans:\n",
    "While loop is used to execute a block of statements repeatedly until a given condition is satisfied and when the condition becomes false, the line immediately after the loop in the program is executed.\n",
    "\n",
    "While loop falls under the category of indefinite iteration. Indefinite iteration means that the number of times the loop is executed isn't specified explicitly in advance.\n",
    "\n",
    "Statements represent all the statements indented by the same number of character spaces after a programming construct are considered to be part of a single block of code. Python uses indentation as its method of grouping statements. When a while loop is executed, expression is first evaluated in a Boolean context and if it is true, the loop body is executed. Then the expression is checked again, if it is still true then the body is executed again and this continues until the expression becomes false."
   ]
  },
  {
   "cell_type": "code",
   "execution_count": 5,
   "id": "058a4114-91ac-43c4-9524-a5b2814516f6",
   "metadata": {},
   "outputs": [
    {
     "name": "stdout",
     "output_type": "stream",
     "text": [
      "0\n",
      "1\n",
      "2\n",
      "3\n",
      "4\n",
      "5\n",
      "6\n",
      "7\n",
      "8\n",
      "9\n"
     ]
    }
   ],
   "source": [
    "count=0\n",
    "while count<10:\n",
    "    print(count)\n",
    "    count=count+1"
   ]
  },
  {
   "cell_type": "markdown",
   "id": "48edb33d-fd43-48b4-8592-acdebba72514",
   "metadata": {},
   "source": [
    "Q6. Use nested while loop to print 3 different pattern."
   ]
  },
  {
   "cell_type": "code",
   "execution_count": 7,
   "id": "21dcbcc9-e116-4bd1-b7d4-a481c347c757",
   "metadata": {},
   "outputs": [
    {
     "name": "stdout",
     "output_type": "stream",
     "text": [
      "*\n",
      "**\n",
      "***\n"
     ]
    }
   ],
   "source": [
    "n=3\n",
    "c=1\n",
    "while c<=n:\n",
    "    d=1\n",
    "    while d<c:\n",
    "        print(\"*\",end=\"\")\n",
    "        d=d+1\n",
    "    print(\"*\")\n",
    "    c=c+1"
   ]
  },
  {
   "cell_type": "markdown",
   "id": "fd473e12-00ce-48d0-ba08-5713c152a505",
   "metadata": {},
   "source": [
    "Q7. Reverse a while loop to display numbers from 10 to 1."
   ]
  },
  {
   "cell_type": "code",
   "execution_count": 8,
   "id": "ad6ceedd-89c9-4c90-b9fa-46a8eca911ec",
   "metadata": {},
   "outputs": [
    {
     "name": "stdout",
     "output_type": "stream",
     "text": [
      "10\n",
      "9\n",
      "8\n",
      "7\n",
      "6\n",
      "5\n",
      "4\n",
      "3\n",
      "2\n",
      "1\n"
     ]
    }
   ],
   "source": [
    "x1=10\n",
    "while x1>=1:\n",
    "    print(x1)\n",
    "    x1=x1-1"
   ]
  },
  {
   "cell_type": "code",
   "execution_count": null,
   "id": "45089ff7-86c3-4af3-a1d2-3e0dff8db403",
   "metadata": {},
   "outputs": [],
   "source": []
  }
 ],
 "metadata": {
  "kernelspec": {
   "display_name": "Python 3 (ipykernel)",
   "language": "python",
   "name": "python3"
  },
  "language_info": {
   "codemirror_mode": {
    "name": "ipython",
    "version": 3
   },
   "file_extension": ".py",
   "mimetype": "text/x-python",
   "name": "python",
   "nbconvert_exporter": "python",
   "pygments_lexer": "ipython3",
   "version": "3.10.8"
  }
 },
 "nbformat": 4,
 "nbformat_minor": 5
}
