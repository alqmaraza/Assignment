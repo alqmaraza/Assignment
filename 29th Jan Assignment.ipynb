{
 "cells": [
  {
   "cell_type": "markdown",
   "id": "203a6288-b7c3-422b-8d29-8f96925a1d8f",
   "metadata": {},
   "source": [
    "Q.1 Who developed Python Programming Language?"
   ]
  },
  {
   "cell_type": "markdown",
   "id": "645c9303-95be-477a-8692-27d05fd31224",
   "metadata": {},
   "source": [
    "Ans.Python was created by Guido van Rossum."
   ]
  },
  {
   "cell_type": "markdown",
   "id": "0692c229-7e09-48c0-956c-9e5cebd7b338",
   "metadata": {},
   "source": [
    "Q.2 Which type of Programming does Python support?"
   ]
  },
  {
   "cell_type": "markdown",
   "id": "e10464a3-ec6d-45f7-b575-1e3916f23ff4",
   "metadata": {},
   "source": [
    "Ans. Python supports three programming paradigms:\n",
    "    \n",
    "    Imperative:\n",
    "        i)  Focuses on how\n",
    "        ii) Explicitly tells the computer how to accomplish a task\n",
    "        iii)Using statements,loops and functions/procedure as subroutine\n",
    "    \n",
    "    Functional:\n",
    "        \n",
    "        i)  Focuses on what\n",
    "        ii) Using pure stateless functions ex: Lambda, map, filter,reduce\n",
    "        iii)Efficient for tasks requiring recursion and concurrent executions\n",
    "        iv) Reduced line of code\n",
    "    \n",
    "    Object Oriented:\n",
    "        \n",
    "        i)  Make code organized, reusable and easy to maintain\n",
    "        ii) Object is basic entity. Object contain data and methods to modify             that data\n",
    "        iii)Objects are created from class. Class is considered as blueprint               of object."
   ]
  },
  {
   "cell_type": "markdown",
   "id": "4ac36bf4-538a-4e6d-9c73-f42e416fdc94",
   "metadata": {},
   "source": [
    "Q.3 Is Python case sensitive when dealing with identifiers?"
   ]
  },
  {
   "cell_type": "markdown",
   "id": "9c9028b6-55c5-4eb4-86ba-4d871b37509f",
   "metadata": {},
   "source": [
    "Ans:Yes, Python is a case-sensitive language."
   ]
  },
  {
   "cell_type": "markdown",
   "id": "d4a13a13-c2dd-4f34-b8d7-c072a4143a18",
   "metadata": {},
   "source": [
    "Q.4 What is the correct extension of the Python file?"
   ]
  },
  {
   "cell_type": "markdown",
   "id": "52e2918b-a925-42cb-830a-56c7a51cec21",
   "metadata": {},
   "source": [
    "Ans: '.py' is the correct extension of the python file. "
   ]
  },
  {
   "cell_type": "markdown",
   "id": "be247411-b7cc-410a-9ea5-0c8015da9d9b",
   "metadata": {},
   "source": [
    "Q.5 Is Python code compiled or interpreted?"
   ]
  },
  {
   "cell_type": "markdown",
   "id": "8c2af370-228b-4688-86ac-14bbb9617340",
   "metadata": {},
   "source": [
    "Ans: Interpreted \n",
    " \n",
    " Python is an Interpreted language."
   ]
  },
  {
   "cell_type": "markdown",
   "id": "c31ddc54-f16c-4ccc-90a6-6d40b2bbf5f8",
   "metadata": {},
   "source": [
    "Q.6 Name a few blocks of code used to define in Python language?"
   ]
  },
  {
   "cell_type": "markdown",
   "id": "0fcb0840-3676-4108-93e1-081258f1d2fa",
   "metadata": {},
   "source": [
    "Ans: Indentation is used to define a block of code in Python."
   ]
  },
  {
   "cell_type": "markdown",
   "id": "6c3a202e-729b-4a39-a1bc-80840e59118d",
   "metadata": {},
   "source": [
    "Q.7 State a character used to give single-line comments in Python?"
   ]
  },
  {
   "cell_type": "markdown",
   "id": "a0e789d5-0ed4-4cd7-b8ed-21466efb2b69",
   "metadata": {},
   "source": [
    "Ans: '#' character is used to give single-line comments."
   ]
  },
  {
   "cell_type": "markdown",
   "id": "c13db0d3-d1fb-4bc4-b50c-2976f55b2ebf",
   "metadata": {},
   "source": [
    "Q.8 Mention functions which can help us to find the version of Python that we are currently working on?"
   ]
  },
  {
   "cell_type": "markdown",
   "id": "e260152a-9a14-4fed-90f3-7e9de3d6be88",
   "metadata": {},
   "source": [
    "Ans: sys.version can help us to find the version of Python that we are currently working on."
   ]
  },
  {
   "cell_type": "markdown",
   "id": "ac8b7169-6bd8-420b-9e8b-573c5095856d",
   "metadata": {},
   "source": [
    "Q.9 Python supports the creation of anonymous functions at runtime, using a construct called_______."
   ]
  },
  {
   "cell_type": "markdown",
   "id": "d4122422-0407-4899-a90f-0124e724264f",
   "metadata": {},
   "source": [
    "Ans: It uses construct called \"lambda\"."
   ]
  },
  {
   "cell_type": "markdown",
   "id": "d31644f1-23b5-4a40-bba1-552cbaff98c3",
   "metadata": {},
   "source": [
    "Q.10 What does pip stand for Python?"
   ]
  },
  {
   "cell_type": "markdown",
   "id": "c4ce85cb-dba9-4572-a319-14c62d08848b",
   "metadata": {},
   "source": [
    "Ans: pip stands for \"Preferred Installer Program\" or \"PIP installs Packages\"."
   ]
  },
  {
   "cell_type": "markdown",
   "id": "08f33eda-0cb4-42c3-b09f-fb15f284df44",
   "metadata": {},
   "source": [
    "Q.11 Mention a few built-in functions in Python?"
   ]
  },
  {
   "cell_type": "markdown",
   "id": "b6b6e833-836d-448a-8020-8982441fd373",
   "metadata": {},
   "source": [
    "Ans: abs() , all() , any() , ascii() , bool() , chr() , float() , filter() , int() , print() , str() , tuple() etc."
   ]
  },
  {
   "cell_type": "markdown",
   "id": "3c7952fa-2899-4ce1-8a6e-45f9fa64a7df",
   "metadata": {},
   "source": [
    "Q.12 What is the maximum possible length of an identifier in Python?"
   ]
  },
  {
   "cell_type": "markdown",
   "id": "222e7fa7-8cbd-420c-a749-f88bb2e01a86",
   "metadata": {},
   "source": [
    "Ans:79"
   ]
  },
  {
   "cell_type": "markdown",
   "id": "0743cc6e-03e0-4dd5-9462-5ae473ed488f",
   "metadata": {},
   "source": [
    "Q.13 What are the benefits of using Python?"
   ]
  },
  {
   "cell_type": "markdown",
   "id": "be30a03a-cbde-4bee-8fbf-930b2eff446a",
   "metadata": {},
   "source": [
    "Ans: i)  Easy to learn and Easy to use\n",
    "    ii)  Improves Productivity\n",
    "   iii)  Interpreted language\n",
    "    iv)  Open source\n",
    "     v)  Easily Portable\n",
    "    vi)  Massive Libraries\n",
    "   vii)  Easy to integrate with other Programming languages"
   ]
  },
  {
   "cell_type": "markdown",
   "id": "b5f6d453-4f55-4485-90c9-b000ba432102",
   "metadata": {},
   "source": [
    "Q.14 How is memory managed in Python?"
   ]
  },
  {
   "cell_type": "markdown",
   "id": "473343c4-77e7-43d7-b2d2-15c256b0d4c8",
   "metadata": {},
   "source": [
    "Ans: Memory in Python is managed by Python private heap space. All Python objects and data structures are located in a private heap. This Private heap is taken care of by Python Interpreter itself, and programmer doesn't have access to this private heap."
   ]
  },
  {
   "cell_type": "markdown",
   "id": "82795645-e8d7-4caa-9bbf-dc89fb80384d",
   "metadata": {},
   "source": [
    "Q.15 How to install Python on Windows and set path variables?"
   ]
  },
  {
   "cell_type": "markdown",
   "id": "bcfb8463-cb7b-40d6-8e41-bbe05e9d563b",
   "metadata": {},
   "source": [
    "Ans: Download python using this link https://www.python.org/downloads/\n",
    "      After this, install it on your PC. Look for the location where Python has been installed on your PC using the following command on your command prompt:\n",
    "      \n",
    "cmd python\n",
    "        \n",
    "Then go to advanced system settings and add new variable and name it as PYTHON_NAME and paste the copied path\n",
    "Then look for the path variable, select it's value and select edit Add a semicolon towards the end of the value if it's not present and then type %PYHTON_NAME% \n"
   ]
  },
  {
   "cell_type": "markdown",
   "id": "dbb4316e-7670-40bd-87eb-e1d344090c37",
   "metadata": {},
   "source": [
    "Q.16  Is Indentation required in Python?"
   ]
  },
  {
   "cell_type": "markdown",
   "id": "c883ee62-fbf1-480b-ad47-7c0315e96fdc",
   "metadata": {},
   "source": [
    "Ans: Yes Indentation is required in Python. It specifies a block of code."
   ]
  },
  {
   "cell_type": "code",
   "execution_count": null,
   "id": "4ea1cbeb-4038-4741-93c0-03eea2c6225d",
   "metadata": {},
   "outputs": [],
   "source": []
  }
 ],
 "metadata": {
  "kernelspec": {
   "display_name": "Python 3 (ipykernel)",
   "language": "python",
   "name": "python3"
  },
  "language_info": {
   "codemirror_mode": {
    "name": "ipython",
    "version": 3
   },
   "file_extension": ".py",
   "mimetype": "text/x-python",
   "name": "python",
   "nbconvert_exporter": "python",
   "pygments_lexer": "ipython3",
   "version": "3.10.8"
  }
 },
 "nbformat": 4,
 "nbformat_minor": 5
}
